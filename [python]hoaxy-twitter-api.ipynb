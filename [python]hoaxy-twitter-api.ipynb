{
 "cells": [
  {
   "cell_type": "markdown",
   "metadata": {},
   "source": [
    "### Load libraries and local environment variables"
   ]
  },
  {
   "cell_type": "code",
   "execution_count": 1,
   "metadata": {},
   "outputs": [],
   "source": [
    "import pandas as pd\n",
    "import tweepy\n",
    "import os\n",
    "import json\n",
    "\n",
    "consumer_key = os.getenv('TWEET_CONSUMER_KEY')\n",
    "consumer_secret = os.getenv('TWEET_CONSUMER_SECRET')\n",
    "hoaxy_file_source_location = './Datasets/Covid_AND_FLU_hoaxy_visualization_2020_05_15.csv'\n",
    "hoaxy_file_target_location = './Datasets/Covid_AND_FLU_hoaxy_visualization_2020_05_15_extend.csv'"
   ]
  },
  {
   "cell_type": "markdown",
   "metadata": {},
   "source": [
    "### Extract user_id and user_screen_name from both from_user and to_user"
   ]
  },
  {
   "cell_type": "code",
   "execution_count": 4,
   "metadata": {},
   "outputs": [
    {
     "name": "stderr",
     "output_type": "stream",
     "text": [
      "/opt/local/Library/Frameworks/Python.framework/Versions/3.7/lib/python3.7/site-packages/ipykernel_launcher.py:4: SettingWithCopyWarning: \n",
      "A value is trying to be set on a copy of a slice from a DataFrame\n",
      "\n",
      "See the caveats in the documentation: https://pandas.pydata.org/pandas-docs/stable/user_guide/indexing.html#returning-a-view-versus-a-copy\n",
      "  after removing the cwd from sys.path.\n",
      "/opt/local/Library/Frameworks/Python.framework/Versions/3.7/lib/python3.7/site-packages/ipykernel_launcher.py:8: SettingWithCopyWarning: \n",
      "A value is trying to be set on a copy of a slice from a DataFrame\n",
      "\n",
      "See the caveats in the documentation: https://pandas.pydata.org/pandas-docs/stable/user_guide/indexing.html#returning-a-view-versus-a-copy\n",
      "  \n"
     ]
    }
   ],
   "source": [
    "df_visual = pd.read_csv(hoaxy_file_source_location,encoding= 'unicode_escape')\n",
    "\n",
    "df_from_user_id = df_visual[['from_user_id', 'from_user_screen_name']]\n",
    "df_from_user_id.drop_duplicates(subset =\"from_user_screen_name\", keep = \"first\", inplace = True)\n",
    "df_from_user_id.columns = ['user_id', 'user_screen_name']\n",
    "\n",
    "df_to_user_id = df_visual[['to_user_id', 'to_user_screen_name']]\n",
    "df_to_user_id.drop_duplicates(subset =\"to_user_screen_name\", keep = \"first\", inplace = True)\n",
    "df_to_user_id.columns = ['user_id', 'user_screen_name']\n",
    "\n",
    "dfs = [df_from_user_id, df_to_user_id]\n",
    "df_users = pd.concat(dfs, axis=0, ignore_index=True)\n",
    "\n",
    "df_users.drop_duplicates(subset =\"user_screen_name\", keep = \"first\", inplace = True)\n",
    "\n",
    "df_users = df_users.sort_values(by='user_id', ascending=True).reset_index().drop(columns=['index'])"
   ]
  },
  {
   "cell_type": "markdown",
   "metadata": {},
   "source": [
    "### Initialise twitter API and lookup corresponding users' information"
   ]
  },
  {
   "cell_type": "code",
   "execution_count": 6,
   "metadata": {},
   "outputs": [],
   "source": [
    "auth = tweepy.OAuthHandler(consumer_key, consumer_secret)\n",
    "api = tweepy.API(auth)\n",
    "\n",
    "users_info = []\n",
    "for i in range(0, len(df_users.index), 100):\n",
    "    users_screen_names_str = \",\".join(df_users.iloc[i:(i+100)]['user_screen_name'].tolist())\n",
    "    users_response = api.lookup_users(screen_names=[users_screen_names_str])\n",
    "    for j in range(len(users_response)):\n",
    "        user_info = users_response[j]._json\n",
    "        users_info.append(user_info)"
   ]
  },
  {
   "cell_type": "markdown",
   "metadata": {},
   "source": [
    "### Extract useful information from users' information"
   ]
  },
  {
   "cell_type": "code",
   "execution_count": 8,
   "metadata": {},
   "outputs": [],
   "source": [
    "users_pd = pd.DataFrame(users_info)\n",
    "columns_oi = ['id_str', 'screen_name', 'location', 'created_at', 'followers_count', 'friends_count', 'listed_count']\n",
    "users_pd_oi = users_pd[columns_oi]"
   ]
  },
  {
   "cell_type": "markdown",
   "metadata": {},
   "source": [
    "### Join back to Hoaxy data"
   ]
  },
  {
   "cell_type": "code",
   "execution_count": 9,
   "metadata": {},
   "outputs": [],
   "source": [
    "df_merge1 = df_visual.merge(users_pd_oi.add_prefix(\"from_user_\"), how='left', on='from_user_screen_name')\n",
    "df_merge = df_merge1.merge(users_pd_oi.add_prefix(\"to_user_\"), how='left', on='to_user_screen_name')"
   ]
  },
  {
   "cell_type": "markdown",
   "metadata": {},
   "source": [
    "### Tidy up and export to csv"
   ]
  },
  {
   "cell_type": "code",
   "execution_count": 10,
   "metadata": {},
   "outputs": [],
   "source": [
    "df_merge = df_merge[sorted(df_merge.columns)]\n",
    "df_merge.to_csv(hoaxy_file_target_location, index = False, header=True)"
   ]
  },
  {
   "cell_type": "code",
   "execution_count": null,
   "metadata": {},
   "outputs": [],
   "source": []
  }
 ],
 "metadata": {
  "kernelspec": {
   "display_name": "Python 3",
   "language": "python",
   "name": "python3"
  },
  "language_info": {
   "codemirror_mode": {
    "name": "ipython",
    "version": 3
   },
   "file_extension": ".py",
   "mimetype": "text/x-python",
   "name": "python",
   "nbconvert_exporter": "python",
   "pygments_lexer": "ipython3",
   "version": "3.7.3"
  }
 },
 "nbformat": 4,
 "nbformat_minor": 4
}
